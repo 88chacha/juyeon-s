{
 "cells": [
  {
   "cell_type": "code",
   "execution_count": 2,
   "id": "0b349e4f",
   "metadata": {},
   "outputs": [
    {
     "name": "stdout",
     "output_type": "stream",
     "text": [
      "HELLO WORLD!\n"
     ]
    }
   ],
   "source": [
    "print(\"HELLO WORLD!\")"
   ]
  },
  {
   "cell_type": "code",
   "execution_count": 4,
   "id": "1d36eded",
   "metadata": {},
   "outputs": [
    {
     "name": "stdout",
     "output_type": "stream",
     "text": [
      "아 진짜 너무 어렵다 무슨 소리인지 하나도 모르겠😭😭\n"
     ]
    }
   ],
   "source": [
    "print(\"아 진짜 너무 어렵다 무슨 소리인지 하나도 모르겠😭😭\")"
   ]
  }
 ],
 "metadata": {
  "kernelspec": {
   "display_name": "Python 3 (ipykernel)",
   "language": "python",
   "name": "python3"
  },
  "language_info": {
   "codemirror_mode": {
    "name": "ipython",
    "version": 3
   },
   "file_extension": ".py",
   "mimetype": "text/x-python",
   "name": "python",
   "nbconvert_exporter": "python",
   "pygments_lexer": "ipython3",
   "version": "3.9.7"
  }
 },
 "nbformat": 4,
 "nbformat_minor": 5
}
